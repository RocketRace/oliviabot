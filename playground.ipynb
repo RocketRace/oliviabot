{
 "cells": [
  {
   "cell_type": "code",
   "execution_count": null,
   "metadata": {},
   "outputs": [],
   "source": [
    "import numpy as np\n"
   ]
  },
  {
   "cell_type": "code",
   "execution_count": null,
   "metadata": {},
   "outputs": [],
   "source": [
    "import enum\n",
    "from collections import Counter, defaultdict\n",
    "\n",
    "class TextContext(enum.IntEnum):\n",
    "    Standard = 0\n",
    "    Code = enum.auto()\n",
    "    Spoiler = enum.auto()\n",
    "    Url = enum.auto()\n",
    "\n",
    "class Start: pass\n",
    "class End: pass\n",
    "\n",
    "START = Start()\n",
    "END = End()\n",
    "\n",
    "Token = str | Start | End\n",
    "Counts = defaultdict[int, Counter[int]]\n",
    "\n",
    "tokens: list[Token] = [START, END]\n",
    "token_ids: dict[Token, int] = {START: 0, END: 1}\n",
    "token_counts: Counts = defaultdict(Counter)\n",
    "\n",
    "token_counts[1].update([1])\n",
    "\n",
    "\n"
   ]
  },
  {
   "cell_type": "code",
   "execution_count": null,
   "metadata": {},
   "outputs": [],
   "source": [
    "def add_token(tok: Token):\n",
    "    if tok in token_ids:\n",
    "        return\n",
    "    id = len(tokens)\n",
    "    tokens.append(tok)\n",
    "    token_ids[tok] = id"
   ]
  },
  {
   "cell_type": "code",
   "execution_count": null,
   "metadata": {},
   "outputs": [],
   "source": [
    "import itertools\n",
    "def add_sequence(toks: list[Token]):\n",
    "    for tok in toks:\n",
    "        add_token(tok)\n",
    "    ids = [token_ids[tok] for tok in toks]\n",
    "    for x, y in itertools.pairwise(ids):\n",
    "        token_counts[x].update([y])\n",
    "    \n"
   ]
  },
  {
   "cell_type": "code",
   "execution_count": null,
   "metadata": {},
   "outputs": [],
   "source": [
    "def add_sentence(s: str):\n",
    "    if s:\n",
    "        global token_counts\n",
    "        add_sequence([START] + s.split() + [END])"
   ]
  },
  {
   "cell_type": "code",
   "execution_count": null,
   "metadata": {},
   "outputs": [],
   "source": [
    "with open(\"example.txt\") as f:\n",
    "    add_sentence(f.read())"
   ]
  },
  {
   "cell_type": "code",
   "execution_count": null,
   "metadata": {},
   "outputs": [],
   "source": [
    "def cum_weights():\n",
    "    return [np.cumsum(list(counter.values())) for counter in token_counts.values()]\n"
   ]
  },
  {
   "cell_type": "code",
   "execution_count": null,
   "metadata": {},
   "outputs": [],
   "source": [
    "def get_random_id(c: list[np.ndarray], token_id: int) -> int:\n",
    "    idx = np.searchsorted(c[token_id], np.random.randint(c[token_id][-1]))\n",
    "    return list(token_counts[token_id].keys())[idx]"
   ]
  },
  {
   "cell_type": "code",
   "execution_count": null,
   "metadata": {},
   "outputs": [],
   "source": [
    "def generate(start: Token | None = None, limit: int = 10):\n",
    "    c = cum_weights()\n",
    "    if start is None:\n",
    "        start = tokens[get_random_id(c, token_ids[START])]\n",
    "\n",
    "    out: list[Token] = [start]\n",
    "    current = token_ids[start]\n",
    "\n",
    "    print(out)\n",
    "    \n",
    "    for _ in range(limit):\n",
    "        current = get_random_id(c, current)\n",
    "        out.append(tokens[current])\n",
    "        if tokens[current] is END:\n",
    "            break\n",
    "    \n",
    "    return out"
   ]
  },
  {
   "cell_type": "code",
   "execution_count": null,
   "metadata": {},
   "outputs": [],
   "source": [
    "generate(\"Why\")"
   ]
  },
  {
   "cell_type": "code",
   "execution_count": null,
   "metadata": {},
   "outputs": [],
   "source": []
  },
  {
   "cell_type": "code",
   "execution_count": null,
   "metadata": {},
   "outputs": [],
   "source": []
  },
  {
   "cell_type": "code",
   "execution_count": null,
   "metadata": {},
   "outputs": [],
   "source": []
  }
 ],
 "metadata": {
  "kernelspec": {
   "display_name": "oliviabot-O39aO97A-py3.12",
   "language": "python",
   "name": "python3"
  },
  "language_info": {
   "codemirror_mode": {
    "name": "ipython",
    "version": 3
   },
   "file_extension": ".py",
   "mimetype": "text/x-python",
   "name": "python",
   "nbconvert_exporter": "python",
   "pygments_lexer": "ipython3",
   "version": "3.12.4"
  }
 },
 "nbformat": 4,
 "nbformat_minor": 2
}
